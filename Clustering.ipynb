{
 "cells": [
  {
   "cell_type": "code",
   "execution_count": 5,
   "id": "29425341",
   "metadata": {},
   "outputs": [
    {
     "ename": "ModuleNotFoundError",
     "evalue": "No module named 'pandas'",
     "output_type": "error",
     "traceback": [
      "\u001b[0;31m---------------------------------------------------------------------------\u001b[0m",
      "\u001b[0;31mModuleNotFoundError\u001b[0m                       Traceback (most recent call last)",
      "Cell \u001b[0;32mIn[5], line 1\u001b[0m\n\u001b[0;32m----> 1\u001b[0m \u001b[38;5;28;01mimport\u001b[39;00m \u001b[38;5;21;01mpandas\u001b[39;00m \u001b[38;5;28;01mas\u001b[39;00m \u001b[38;5;21;01mpd\u001b[39;00m\n\u001b[1;32m      2\u001b[0m \u001b[38;5;28;01mimport\u001b[39;00m \u001b[38;5;21;01mnumpy\u001b[39;00m \u001b[38;5;28;01mas\u001b[39;00m \u001b[38;5;21;01mnp\u001b[39;00m\n\u001b[1;32m      3\u001b[0m \u001b[38;5;28;01mimport\u001b[39;00m \u001b[38;5;21;01mmatplotlib\u001b[39;00m\u001b[38;5;21;01m.\u001b[39;00m\u001b[38;5;21;01mpyplot\u001b[39;00m \u001b[38;5;28;01mas\u001b[39;00m \u001b[38;5;21;01mplt\u001b[39;00m\n",
      "\u001b[0;31mModuleNotFoundError\u001b[0m: No module named 'pandas'"
     ]
    }
   ],
   "source": [
    "import pandas as pd\n",
    "import numpy as np\n",
    "import matplotlib.pyplot as plt\n",
    "import seaborn as sns\n",
    "from scipy.cluster import hierarchy\n",
    "from sklearn.cluster import AgglomerativeClustering, KMeans\n",
    "from sklearn.metrics import silhouette_score\n",
    "from sklearn.cluster import DBSCAN\n",
    "from sklearn.neighbors import NearestNeighbors\n",
    "import plotly.express as pe\n",
    "plt.rcParams['figure.figsize'] = (10,5)\n",
    "plt.rcParams['figure.dpi'] = 250\n",
    "plt.show()\n",
    "import warnings\n",
    "warnings.filterwarnings('ignore')"
   ]
  },
  {
   "cell_type": "code",
   "execution_count": null,
   "id": "24c1aec0",
   "metadata": {},
   "outputs": [
    {
     "data": {
      "text/html": [
       "<div>\n",
       "<style scoped>\n",
       "    .dataframe tbody tr th:only-of-type {\n",
       "        vertical-align: middle;\n",
       "    }\n",
       "\n",
       "    .dataframe tbody tr th {\n",
       "        vertical-align: top;\n",
       "    }\n",
       "\n",
       "    .dataframe thead th {\n",
       "        text-align: right;\n",
       "    }\n",
       "</style>\n",
       "<table border=\"1\" class=\"dataframe\">\n",
       "  <thead>\n",
       "    <tr style=\"text-align: right;\">\n",
       "      <th></th>\n",
       "      <th>Education</th>\n",
       "      <th>Marital_Status</th>\n",
       "      <th>Income</th>\n",
       "      <th>Recency</th>\n",
       "      <th>MntWines</th>\n",
       "      <th>MntFruits</th>\n",
       "      <th>MntMeatProducts</th>\n",
       "      <th>MntFishProducts</th>\n",
       "      <th>MntSweetProducts</th>\n",
       "      <th>MntGoldProds</th>\n",
       "      <th>...</th>\n",
       "      <th>NumWebVisitsMonth</th>\n",
       "      <th>Complain</th>\n",
       "      <th>Response</th>\n",
       "      <th>Age</th>\n",
       "      <th>Cust_Since(yrs)</th>\n",
       "      <th>Num_Childrns</th>\n",
       "      <th>AcceptedCmp</th>\n",
       "      <th>Total_amt_spend</th>\n",
       "      <th>Total_Purchases</th>\n",
       "      <th>Age_Groups</th>\n",
       "    </tr>\n",
       "  </thead>\n",
       "  <tbody>\n",
       "    <tr>\n",
       "      <th>0</th>\n",
       "      <td>Graduation</td>\n",
       "      <td>Single</td>\n",
       "      <td>58138.0</td>\n",
       "      <td>58</td>\n",
       "      <td>635</td>\n",
       "      <td>88</td>\n",
       "      <td>546</td>\n",
       "      <td>172</td>\n",
       "      <td>88</td>\n",
       "      <td>88</td>\n",
       "      <td>...</td>\n",
       "      <td>7</td>\n",
       "      <td>0</td>\n",
       "      <td>1</td>\n",
       "      <td>67</td>\n",
       "      <td>12</td>\n",
       "      <td>0</td>\n",
       "      <td>4</td>\n",
       "      <td>1617</td>\n",
       "      <td>25</td>\n",
       "      <td>Old</td>\n",
       "    </tr>\n",
       "    <tr>\n",
       "      <th>1</th>\n",
       "      <td>Graduation</td>\n",
       "      <td>Single</td>\n",
       "      <td>46344.0</td>\n",
       "      <td>38</td>\n",
       "      <td>11</td>\n",
       "      <td>1</td>\n",
       "      <td>6</td>\n",
       "      <td>2</td>\n",
       "      <td>1</td>\n",
       "      <td>6</td>\n",
       "      <td>...</td>\n",
       "      <td>5</td>\n",
       "      <td>0</td>\n",
       "      <td>0</td>\n",
       "      <td>70</td>\n",
       "      <td>10</td>\n",
       "      <td>2</td>\n",
       "      <td>0</td>\n",
       "      <td>27</td>\n",
       "      <td>6</td>\n",
       "      <td>Old</td>\n",
       "    </tr>\n",
       "    <tr>\n",
       "      <th>2</th>\n",
       "      <td>Graduation</td>\n",
       "      <td>Engaged</td>\n",
       "      <td>71613.0</td>\n",
       "      <td>26</td>\n",
       "      <td>426</td>\n",
       "      <td>49</td>\n",
       "      <td>127</td>\n",
       "      <td>111</td>\n",
       "      <td>21</td>\n",
       "      <td>42</td>\n",
       "      <td>...</td>\n",
       "      <td>4</td>\n",
       "      <td>0</td>\n",
       "      <td>0</td>\n",
       "      <td>59</td>\n",
       "      <td>11</td>\n",
       "      <td>0</td>\n",
       "      <td>0</td>\n",
       "      <td>776</td>\n",
       "      <td>21</td>\n",
       "      <td>Mid_aged</td>\n",
       "    </tr>\n",
       "    <tr>\n",
       "      <th>3</th>\n",
       "      <td>Graduation</td>\n",
       "      <td>Engaged</td>\n",
       "      <td>26646.0</td>\n",
       "      <td>26</td>\n",
       "      <td>11</td>\n",
       "      <td>4</td>\n",
       "      <td>20</td>\n",
       "      <td>10</td>\n",
       "      <td>3</td>\n",
       "      <td>5</td>\n",
       "      <td>...</td>\n",
       "      <td>6</td>\n",
       "      <td>0</td>\n",
       "      <td>0</td>\n",
       "      <td>40</td>\n",
       "      <td>10</td>\n",
       "      <td>1</td>\n",
       "      <td>2</td>\n",
       "      <td>53</td>\n",
       "      <td>8</td>\n",
       "      <td>Young</td>\n",
       "    </tr>\n",
       "    <tr>\n",
       "      <th>4</th>\n",
       "      <td>PhD</td>\n",
       "      <td>Married</td>\n",
       "      <td>58293.0</td>\n",
       "      <td>94</td>\n",
       "      <td>173</td>\n",
       "      <td>43</td>\n",
       "      <td>118</td>\n",
       "      <td>46</td>\n",
       "      <td>27</td>\n",
       "      <td>15</td>\n",
       "      <td>...</td>\n",
       "      <td>5</td>\n",
       "      <td>0</td>\n",
       "      <td>0</td>\n",
       "      <td>43</td>\n",
       "      <td>10</td>\n",
       "      <td>1</td>\n",
       "      <td>2</td>\n",
       "      <td>422</td>\n",
       "      <td>19</td>\n",
       "      <td>Young</td>\n",
       "    </tr>\n",
       "  </tbody>\n",
       "</table>\n",
       "<p>5 rows × 24 columns</p>\n",
       "</div>"
      ],
      "text/plain": [
       "    Education Marital_Status   Income  Recency  MntWines  MntFruits  \\\n",
       "0  Graduation         Single  58138.0       58       635         88   \n",
       "1  Graduation         Single  46344.0       38        11          1   \n",
       "2  Graduation        Engaged  71613.0       26       426         49   \n",
       "3  Graduation        Engaged  26646.0       26        11          4   \n",
       "4         PhD        Married  58293.0       94       173         43   \n",
       "\n",
       "   MntMeatProducts  MntFishProducts  MntSweetProducts  MntGoldProds  ...  \\\n",
       "0              546              172                88            88  ...   \n",
       "1                6                2                 1             6  ...   \n",
       "2              127              111                21            42  ...   \n",
       "3               20               10                 3             5  ...   \n",
       "4              118               46                27            15  ...   \n",
       "\n",
       "   NumWebVisitsMonth  Complain  Response  Age  Cust_Since(yrs)  Num_Childrns  \\\n",
       "0                  7         0         1   67               12             0   \n",
       "1                  5         0         0   70               10             2   \n",
       "2                  4         0         0   59               11             0   \n",
       "3                  6         0         0   40               10             1   \n",
       "4                  5         0         0   43               10             1   \n",
       "\n",
       "   AcceptedCmp  Total_amt_spend  Total_Purchases  Age_Groups  \n",
       "0            4             1617               25         Old  \n",
       "1            0               27                6         Old  \n",
       "2            0              776               21    Mid_aged  \n",
       "3            2               53                8       Young  \n",
       "4            2              422               19       Young  \n",
       "\n",
       "[5 rows x 24 columns]"
      ]
     },
     "execution_count": 3,
     "metadata": {},
     "output_type": "execute_result"
    }
   ],
   "source": [
    "pcs = pd.read_csv(\"/Users/eshanakshata/Desktop/Project one/EDA_df.csv\")\n",
    "pcs.head()"
   ]
  },
  {
   "cell_type": "markdown",
   "id": "90d1657f",
   "metadata": {},
   "source": [
    "# Clustering Model Building."
   ]
  },
  {
   "cell_type": "code",
   "execution_count": null,
   "id": "00545278",
   "metadata": {},
   "outputs": [],
   "source": [
    "# Methods using for creating clustering model.\n",
    "# 1. Hierarchical Clustering (Single Linkage Method)\n",
    "# 2. Hierarchical Clustering (Complete Linkage Method)\n",
    "# 3. Agglomerative Clustering\n",
    "# 4. K-Means Clustering\n",
    "# 5. DBSCAN "
   ]
  },
  {
   "cell_type": "markdown",
   "id": "8f740918",
   "metadata": {},
   "source": [
    "# 1. Hierarchical Clustering using 'Single' linkage."
   ]
  },
  {
   "cell_type": "code",
   "execution_count": null,
   "id": "12da05b2",
   "metadata": {},
   "outputs": [
    {
     "ename": "ValueError",
     "evalue": "could not convert string to float: 'Graduation'",
     "output_type": "error",
     "traceback": [
      "\u001b[0;31m---------------------------------------------------------------------------\u001b[0m",
      "\u001b[0;31mValueError\u001b[0m                                Traceback (most recent call last)",
      "\u001b[0;32m/var/folders/n0/_l853dq50g7gn2nc9s5dwsl00000gn/T/ipykernel_11538/2097473752.py\u001b[0m in \u001b[0;36m?\u001b[0;34m()\u001b[0m\n\u001b[1;32m      1\u001b[0m \u001b[0;31m# 1. Hierarchical Clustering using 'Single' linkage.\u001b[0m\u001b[0;34m\u001b[0m\u001b[0;34m\u001b[0m\u001b[0m\n\u001b[1;32m      2\u001b[0m \u001b[0;31m# Deciding How many clusters to be made..\u001b[0m\u001b[0;34m\u001b[0m\u001b[0;34m\u001b[0m\u001b[0m\n\u001b[0;32m----> 3\u001b[0;31m \u001b[0msingle_linkage\u001b[0m \u001b[0;34m=\u001b[0m \u001b[0mhierarchy\u001b[0m\u001b[0;34m.\u001b[0m\u001b[0mlinkage\u001b[0m\u001b[0;34m(\u001b[0m\u001b[0mpcs\u001b[0m\u001b[0;34m,\u001b[0m \u001b[0mmethod\u001b[0m \u001b[0;34m=\u001b[0m \u001b[0;34m'single'\u001b[0m\u001b[0;34m)\u001b[0m\u001b[0;34m\u001b[0m\u001b[0;34m\u001b[0m\u001b[0m\n\u001b[0m\u001b[1;32m      4\u001b[0m \u001b[0mdendrogram\u001b[0m \u001b[0;34m=\u001b[0m \u001b[0mhierarchy\u001b[0m\u001b[0;34m.\u001b[0m\u001b[0mdendrogram\u001b[0m\u001b[0;34m(\u001b[0m\u001b[0msingle_linkage\u001b[0m\u001b[0;34m)\u001b[0m\u001b[0;34m\u001b[0m\u001b[0;34m\u001b[0m\u001b[0m\n",
      "\u001b[0;32m~/Desktop/anaconda3/lib/python3.12/site-packages/scipy/cluster/hierarchy.py\u001b[0m in \u001b[0;36m?\u001b[0;34m(y, method, metric, optimal_ordering)\u001b[0m\n\u001b[1;32m   1002\u001b[0m     \u001b[0;34m>>\u001b[0m\u001b[0;34m>\u001b[0m \u001b[0mdn\u001b[0m \u001b[0;34m=\u001b[0m \u001b[0mdendrogram\u001b[0m\u001b[0;34m(\u001b[0m\u001b[0mZ\u001b[0m\u001b[0;34m)\u001b[0m\u001b[0;34m\u001b[0m\u001b[0;34m\u001b[0m\u001b[0m\n\u001b[1;32m   1003\u001b[0m     \u001b[0;34m>>\u001b[0m\u001b[0;34m>\u001b[0m \u001b[0mplt\u001b[0m\u001b[0;34m.\u001b[0m\u001b[0mshow\u001b[0m\u001b[0;34m(\u001b[0m\u001b[0;34m)\u001b[0m\u001b[0;34m\u001b[0m\u001b[0;34m\u001b[0m\u001b[0m\n\u001b[1;32m   1004\u001b[0m     \"\"\"\n\u001b[1;32m   1005\u001b[0m     \u001b[0mxp\u001b[0m \u001b[0;34m=\u001b[0m \u001b[0marray_namespace\u001b[0m\u001b[0;34m(\u001b[0m\u001b[0my\u001b[0m\u001b[0;34m)\u001b[0m\u001b[0;34m\u001b[0m\u001b[0;34m\u001b[0m\u001b[0m\n\u001b[0;32m-> 1006\u001b[0;31m     \u001b[0my\u001b[0m \u001b[0;34m=\u001b[0m \u001b[0m_asarray\u001b[0m\u001b[0;34m(\u001b[0m\u001b[0my\u001b[0m\u001b[0;34m,\u001b[0m \u001b[0morder\u001b[0m\u001b[0;34m=\u001b[0m\u001b[0;34m'C'\u001b[0m\u001b[0;34m,\u001b[0m \u001b[0mdtype\u001b[0m\u001b[0;34m=\u001b[0m\u001b[0mxp\u001b[0m\u001b[0;34m.\u001b[0m\u001b[0mfloat64\u001b[0m\u001b[0;34m,\u001b[0m \u001b[0mxp\u001b[0m\u001b[0;34m=\u001b[0m\u001b[0mxp\u001b[0m\u001b[0;34m)\u001b[0m\u001b[0;34m\u001b[0m\u001b[0;34m\u001b[0m\u001b[0m\n\u001b[0m\u001b[1;32m   1007\u001b[0m \u001b[0;34m\u001b[0m\u001b[0m\n\u001b[1;32m   1008\u001b[0m     \u001b[0;32mif\u001b[0m \u001b[0mmethod\u001b[0m \u001b[0;32mnot\u001b[0m \u001b[0;32min\u001b[0m \u001b[0m_LINKAGE_METHODS\u001b[0m\u001b[0;34m:\u001b[0m\u001b[0;34m\u001b[0m\u001b[0;34m\u001b[0m\u001b[0m\n\u001b[1;32m   1009\u001b[0m         \u001b[0;32mraise\u001b[0m \u001b[0mValueError\u001b[0m\u001b[0;34m(\u001b[0m\u001b[0;34mf\"\u001b[0m\u001b[0;34mInvalid method: \u001b[0m\u001b[0;34m{\u001b[0m\u001b[0mmethod\u001b[0m\u001b[0;34m}\u001b[0m\u001b[0;34m\"\u001b[0m\u001b[0;34m)\u001b[0m\u001b[0;34m\u001b[0m\u001b[0;34m\u001b[0m\u001b[0m\n",
      "\u001b[0;32m~/Desktop/anaconda3/lib/python3.12/site-packages/scipy/_lib/_array_api.py\u001b[0m in \u001b[0;36m?\u001b[0;34m(array, dtype, order, copy, xp, check_finite)\u001b[0m\n\u001b[1;32m    138\u001b[0m         \u001b[0;31m# Use NumPy API to support order\u001b[0m\u001b[0;34m\u001b[0m\u001b[0;34m\u001b[0m\u001b[0m\n\u001b[1;32m    139\u001b[0m         \u001b[0;32mif\u001b[0m \u001b[0mcopy\u001b[0m \u001b[0;32mis\u001b[0m \u001b[0;32mTrue\u001b[0m\u001b[0;34m:\u001b[0m\u001b[0;34m\u001b[0m\u001b[0;34m\u001b[0m\u001b[0m\n\u001b[1;32m    140\u001b[0m             \u001b[0marray\u001b[0m \u001b[0;34m=\u001b[0m \u001b[0mnp\u001b[0m\u001b[0;34m.\u001b[0m\u001b[0marray\u001b[0m\u001b[0;34m(\u001b[0m\u001b[0marray\u001b[0m\u001b[0;34m,\u001b[0m \u001b[0morder\u001b[0m\u001b[0;34m=\u001b[0m\u001b[0morder\u001b[0m\u001b[0;34m,\u001b[0m \u001b[0mdtype\u001b[0m\u001b[0;34m=\u001b[0m\u001b[0mdtype\u001b[0m\u001b[0;34m)\u001b[0m\u001b[0;34m\u001b[0m\u001b[0;34m\u001b[0m\u001b[0m\n\u001b[1;32m    141\u001b[0m         \u001b[0;32melse\u001b[0m\u001b[0;34m:\u001b[0m\u001b[0;34m\u001b[0m\u001b[0;34m\u001b[0m\u001b[0m\n\u001b[0;32m--> 142\u001b[0;31m             \u001b[0marray\u001b[0m \u001b[0;34m=\u001b[0m \u001b[0mnp\u001b[0m\u001b[0;34m.\u001b[0m\u001b[0masarray\u001b[0m\u001b[0;34m(\u001b[0m\u001b[0marray\u001b[0m\u001b[0;34m,\u001b[0m \u001b[0morder\u001b[0m\u001b[0;34m=\u001b[0m\u001b[0morder\u001b[0m\u001b[0;34m,\u001b[0m \u001b[0mdtype\u001b[0m\u001b[0;34m=\u001b[0m\u001b[0mdtype\u001b[0m\u001b[0;34m)\u001b[0m\u001b[0;34m\u001b[0m\u001b[0;34m\u001b[0m\u001b[0m\n\u001b[0m\u001b[1;32m    143\u001b[0m \u001b[0;34m\u001b[0m\u001b[0m\n\u001b[1;32m    144\u001b[0m         \u001b[0;31m# At this point array is a NumPy ndarray. We convert it to an array\u001b[0m\u001b[0;34m\u001b[0m\u001b[0;34m\u001b[0m\u001b[0m\n\u001b[1;32m    145\u001b[0m         \u001b[0;31m# container that is consistent with the input's namespace.\u001b[0m\u001b[0;34m\u001b[0m\u001b[0;34m\u001b[0m\u001b[0m\n",
      "\u001b[0;32m~/Desktop/anaconda3/lib/python3.12/site-packages/pandas/core/generic.py\u001b[0m in \u001b[0;36m?\u001b[0;34m(self, dtype, copy)\u001b[0m\n\u001b[1;32m   2149\u001b[0m     def __array__(\n\u001b[1;32m   2150\u001b[0m         \u001b[0mself\u001b[0m\u001b[0;34m,\u001b[0m \u001b[0mdtype\u001b[0m\u001b[0;34m:\u001b[0m \u001b[0mnpt\u001b[0m\u001b[0;34m.\u001b[0m\u001b[0mDTypeLike\u001b[0m \u001b[0;34m|\u001b[0m \u001b[0;32mNone\u001b[0m \u001b[0;34m=\u001b[0m \u001b[0;32mNone\u001b[0m\u001b[0;34m,\u001b[0m \u001b[0mcopy\u001b[0m\u001b[0;34m:\u001b[0m \u001b[0mbool_t\u001b[0m \u001b[0;34m|\u001b[0m \u001b[0;32mNone\u001b[0m \u001b[0;34m=\u001b[0m \u001b[0;32mNone\u001b[0m\u001b[0;34m\u001b[0m\u001b[0;34m\u001b[0m\u001b[0m\n\u001b[1;32m   2151\u001b[0m     \u001b[0;34m)\u001b[0m \u001b[0;34m->\u001b[0m \u001b[0mnp\u001b[0m\u001b[0;34m.\u001b[0m\u001b[0mndarray\u001b[0m\u001b[0;34m:\u001b[0m\u001b[0;34m\u001b[0m\u001b[0;34m\u001b[0m\u001b[0m\n\u001b[1;32m   2152\u001b[0m         \u001b[0mvalues\u001b[0m \u001b[0;34m=\u001b[0m \u001b[0mself\u001b[0m\u001b[0;34m.\u001b[0m\u001b[0m_values\u001b[0m\u001b[0;34m\u001b[0m\u001b[0;34m\u001b[0m\u001b[0m\n\u001b[0;32m-> 2153\u001b[0;31m         \u001b[0marr\u001b[0m \u001b[0;34m=\u001b[0m \u001b[0mnp\u001b[0m\u001b[0;34m.\u001b[0m\u001b[0masarray\u001b[0m\u001b[0;34m(\u001b[0m\u001b[0mvalues\u001b[0m\u001b[0;34m,\u001b[0m \u001b[0mdtype\u001b[0m\u001b[0;34m=\u001b[0m\u001b[0mdtype\u001b[0m\u001b[0;34m)\u001b[0m\u001b[0;34m\u001b[0m\u001b[0;34m\u001b[0m\u001b[0m\n\u001b[0m\u001b[1;32m   2154\u001b[0m         if (\n\u001b[1;32m   2155\u001b[0m             \u001b[0mastype_is_view\u001b[0m\u001b[0;34m(\u001b[0m\u001b[0mvalues\u001b[0m\u001b[0;34m.\u001b[0m\u001b[0mdtype\u001b[0m\u001b[0;34m,\u001b[0m \u001b[0marr\u001b[0m\u001b[0;34m.\u001b[0m\u001b[0mdtype\u001b[0m\u001b[0;34m)\u001b[0m\u001b[0;34m\u001b[0m\u001b[0;34m\u001b[0m\u001b[0m\n\u001b[1;32m   2156\u001b[0m             \u001b[0;32mand\u001b[0m \u001b[0musing_copy_on_write\u001b[0m\u001b[0;34m(\u001b[0m\u001b[0;34m)\u001b[0m\u001b[0;34m\u001b[0m\u001b[0;34m\u001b[0m\u001b[0m\n",
      "\u001b[0;31mValueError\u001b[0m: could not convert string to float: 'Graduation'"
     ]
    }
   ],
   "source": [
    "# 1. Hierarchical Clustering using 'Single' linkage.\n",
    "# Deciding How many clusters to be made..\n",
    "single_linkage = hierarchy.linkage(pcs, method = 'single')\n",
    "dendrogram = hierarchy.dendrogram(single_linkage)"
   ]
  },
  {
   "cell_type": "code",
   "execution_count": null,
   "id": "661ec42e",
   "metadata": {},
   "outputs": [],
   "source": [
    "# Due to huge dataset the dendrogram is not interpretable \n",
    "# This cannot be a good approch to deal clustering with huge dataset using Hierarchical clustering"
   ]
  },
  {
   "cell_type": "markdown",
   "id": "86c86274",
   "metadata": {},
   "source": [
    "# 2. Hierarchical CLustering using 'Complete' linkage."
   ]
  },
  {
   "cell_type": "code",
   "execution_count": null,
   "id": "a47dee93",
   "metadata": {},
   "outputs": [],
   "source": [
    "# 2. Hierarchical CLustering using 'Complete' linkage.\n",
    "complete_linkage = hierarchy.linkage(pcs, method = 'complete')\n",
    "dendrogram1 = hierarchy.dendrogram(complete_linkage)\n",
    "plt.axhline(y = 13, linestyle = '--', color = 'pink')"
   ]
  },
  {
   "cell_type": "code",
   "execution_count": null,
   "id": "0c19380d",
   "metadata": {},
   "outputs": [],
   "source": [
    "# We can see the clusters are formed \n",
    "# We have maked horizontal cutting line to select the number of clusters to be formed. \n",
    "# but there is more jumbling of clusters and we can't decide the ideal no. clusters to form.\n",
    "# So I think this could not be good approcach also Hierarchical Clustering is not good approach for large datasets."
   ]
  },
  {
   "cell_type": "markdown",
   "id": "a71d01d0",
   "metadata": {},
   "source": [
    "# 3.1 Agglomerative Clustering"
   ]
  },
  {
   "cell_type": "code",
   "execution_count": null,
   "id": "c963a67a",
   "metadata": {},
   "outputs": [],
   "source": [
    "# 3.1 Agglomerative Clustering\n",
    "hc = AgglomerativeClustering(n_clusters = 6) # assuming 6 clusters are sufficient.\n",
    "hc_predict = hc.fit_predict(pcs)\n",
    "hc_predict"
   ]
  },
  {
   "cell_type": "code",
   "execution_count": null,
   "id": "3df1d4a9",
   "metadata": {},
   "outputs": [],
   "source": [
    "pcs['Clusters'] = hc_predict\n",
    "print(pcs['Clusters'].unique())\n",
    "pcs[pcs['Clusters'] == 0]"
   ]
  },
  {
   "cell_type": "code",
   "execution_count": null,
   "id": "09e6a909",
   "metadata": {},
   "outputs": [],
   "source": [
    "pcs[pcs['Clusters'] == 1]"
   ]
  },
  {
   "cell_type": "code",
   "execution_count": null,
   "id": "20448b5c",
   "metadata": {},
   "outputs": [],
   "source": [
    "pcs[pcs['Clusters'] == 2]"
   ]
  },
  {
   "cell_type": "code",
   "execution_count": null,
   "id": "3be28d9b",
   "metadata": {},
   "outputs": [],
   "source": [
    "pcs[pcs['Clusters'] == 3]"
   ]
  },
  {
   "cell_type": "code",
   "execution_count": null,
   "id": "3bd451da",
   "metadata": {},
   "outputs": [],
   "source": [
    "pcs[pcs['Clusters'] == 4]"
   ]
  },
  {
   "cell_type": "code",
   "execution_count": null,
   "id": "ee0c3ddf",
   "metadata": {},
   "outputs": [],
   "source": [
    "pcs[pcs['Clusters'] == 5]"
   ]
  },
  {
   "cell_type": "code",
   "execution_count": null,
   "id": "beccd768",
   "metadata": {},
   "outputs": [],
   "source": [
    "# Analyzing on which parameter the clusters are made using mean of clusters.\n",
    "# pcs.groupby('Clusters').agg('mean')"
   ]
  },
  {
   "cell_type": "code",
   "execution_count": null,
   "id": "d24e69ad",
   "metadata": {},
   "outputs": [],
   "source": [
    "sns.heatmap(pcs.groupby('Clusters').agg('mean'))"
   ]
  },
  {
   "cell_type": "code",
   "execution_count": null,
   "id": "5342facf",
   "metadata": {},
   "outputs": [],
   "source": [
    "pcs.columns"
   ]
  },
  {
   "cell_type": "code",
   "execution_count": null,
   "id": "19e18259",
   "metadata": {},
   "outputs": [],
   "source": [
    "sns.scatterplot(x = pcs['Income'], y = pcs['Recency'], hue = pcs['Clusters'], palette = 'rainbow')\n",
    "plt.title('Visualizing clusters of Income & Recency using scatterplot')"
   ]
  },
  {
   "cell_type": "code",
   "execution_count": null,
   "id": "cdc46f35",
   "metadata": {},
   "outputs": [],
   "source": [
    "sns.scatterplot(x = pcs['Income'], y = pcs['Total_amt_spend'], hue = pcs['Clusters'], palette = 'rainbow')\n",
    "plt.title('Visualizing clusters of Total_Purchase & Total_amt_spend using scatterplot')"
   ]
  },
  {
   "cell_type": "code",
   "execution_count": null,
   "id": "4bbf168a",
   "metadata": {},
   "outputs": [],
   "source": [
    "# There is overlapping of clusters created and looks like 6 is not ideal no. of clusters to make.\n",
    "# We need to try to make 3 or 4 clusters\n",
    "# Dropping \"Clusters\" column and creating new one.\n",
    "pcs.drop(columns = 'Clusters', inplace = True)"
   ]
  },
  {
   "cell_type": "markdown",
   "id": "654f76e8",
   "metadata": {},
   "source": [
    "# 3.2 Agglomerative CLustering (n_Clusters = 4)"
   ]
  },
  {
   "cell_type": "code",
   "execution_count": null,
   "id": "61d754d0",
   "metadata": {},
   "outputs": [],
   "source": [
    "# 3.2 Agglomerative CLustering (n_Clusters = 4)\n",
    "\n",
    "hc = AgglomerativeClustering(n_clusters = 4) # assuming 4 clusters are sufficient.\n",
    "hc_predict = hc.fit_predict(pcs)\n",
    "pcs['Clusters'] = hc_predict\n",
    "# pcs.groupby('Clusters').agg('mean')\n",
    "sns.scatterplot(x = pcs['Income'], y = pcs['Total_amt_spend'], hue = pcs['Clusters'], palette = 'rainbow')\n",
    "plt.title('Visualizing clusters of Total_Purchase & Total_amt_spend using scatterplot')"
   ]
  },
  {
   "cell_type": "code",
   "execution_count": null,
   "id": "0bda113d",
   "metadata": {},
   "outputs": [],
   "source": [
    "sns.scatterplot(x = pcs['Income'], y = pcs['Recency'], hue = pcs['Clusters'], palette = 'rainbow')\n",
    "plt.title('Visualizing clusters of Income & Recency using scatterplot')"
   ]
  },
  {
   "cell_type": "code",
   "execution_count": null,
   "id": "76c68f20",
   "metadata": {},
   "outputs": [],
   "source": [
    "pe.scatter_3d(x = pcs['Recency'], y = pcs['Total_amt_spend'], z = pcs['Income'], color = pcs['Clusters'])"
   ]
  },
  {
   "cell_type": "markdown",
   "id": "f9a6db6a",
   "metadata": {},
   "source": [
    "# 3.3 Agglomerative CLustering (n_Clusters = 3)"
   ]
  },
  {
   "cell_type": "code",
   "execution_count": null,
   "id": "290ee614",
   "metadata": {},
   "outputs": [],
   "source": [
    "# 3.3 Agglomerative CLustering (n_Clusters = 3)\n",
    "pcs.drop(columns = 'Clusters', inplace = True)\n",
    "\n",
    "hc = AgglomerativeClustering(n_clusters = 3) # assuming 3 clusters are sufficient.\n",
    "hc_predict = hc.fit_predict(pcs)\n",
    "pcs['Clusters'] = hc_predict\n",
    "sns.scatterplot(x = pcs['Income'], y = pcs['Total_amt_spend'], hue = pcs['Clusters'], palette = 'rainbow')\n",
    "plt.title('Visualizing clusters of Total_Purchase & Total_amt_spend using scatterplot')"
   ]
  },
  {
   "cell_type": "code",
   "execution_count": null,
   "id": "e90c114e",
   "metadata": {},
   "outputs": [],
   "source": [
    "sns.scatterplot(x = pcs['Income'], y = pcs['Recency'], hue = pcs['Clusters'], palette = 'rainbow')\n",
    "plt.title('Visualizing clusters of Income & Recency using scatterplot')"
   ]
  },
  {
   "cell_type": "code",
   "execution_count": null,
   "id": "9d711bc5",
   "metadata": {},
   "outputs": [],
   "source": [
    "# 3D Scatterplot of Total Purchases, Total_amt_spend & Income w.r.t. clusters'\n",
    "pe.scatter_3d(x = pcs['Recency'], y = pcs['Total_amt_spend'], z = pcs['Income'], color = pcs['Clusters'])"
   ]
  },
  {
   "cell_type": "code",
   "execution_count": null,
   "id": "6410d5d0",
   "metadata": {},
   "outputs": [],
   "source": [
    "# 3D scatterplot between Income, Recency & Total Purchases w.r.t. clusters\n",
    "pe.scatter_3d(x = pcs['Income'], y = pcs['Recency'], z = pcs['Total_amt_spend'], color = pcs['Clusters'])"
   ]
  },
  {
   "cell_type": "code",
   "execution_count": null,
   "id": "cd0d3712",
   "metadata": {},
   "outputs": [],
   "source": [
    "sns.scatterplot(x = pcs['Num_Childrns'], y = pcs['Income'], hue = pcs['Clusters'], palette = 'rainbow')\n",
    "plt.title('Visualizing clusters of Income & Num_Childrens using scatterplot')"
   ]
  },
  {
   "cell_type": "code",
   "execution_count": null,
   "id": "664238b6",
   "metadata": {},
   "outputs": [],
   "source": [
    "pcs.groupby('Clusters').agg('mean')"
   ]
  },
  {
   "cell_type": "markdown",
   "id": "a8e567ee",
   "metadata": {},
   "source": [
    "-The clusters appear to be primarily differentiated based on the following parameters:\n",
    "\n",
    "\n",
    "Income, Recency, MntWines, MntMeatProducts, MntFishProducts, MntSweetProducts, MntGoldProds, Age, AcceptedCmp\n",
    "\n",
    "\n",
    "-These parameters show significant mean differences across clusters, indicating their importance in the formation of the clusters."
   ]
  },
  {
   "cell_type": "code",
   "execution_count": null,
   "id": "4b73c0b8",
   "metadata": {},
   "outputs": [],
   "source": [
    "# Here it looks like 3 clusters are okay to have\n",
    "# So we have clustered our customers using Agglomerative CLustering Algorithm, and found ideal no. of clusters to make is 3."
   ]
  },
  {
   "cell_type": "markdown",
   "id": "78917d3d",
   "metadata": {},
   "source": [
    "# 4. K-Means Clustering."
   ]
  },
  {
   "cell_type": "code",
   "execution_count": null,
   "id": "9d8efacb",
   "metadata": {},
   "outputs": [],
   "source": [
    "# 4. K-Means CLustering.\n",
    "pcs.drop(columns = 'Clusters')\n",
    "\n",
    "km = KMeans()\n",
    "km_pred = km.fit_predict(pcs)\n",
    "# by default it will create 8 clusters."
   ]
  },
  {
   "cell_type": "code",
   "execution_count": null,
   "id": "900de03f",
   "metadata": {},
   "outputs": [],
   "source": [
    "# checking the centroids of clusters (x, y variable values.)\n",
    "km.cluster_centers_"
   ]
  },
  {
   "cell_type": "code",
   "execution_count": null,
   "id": "c8387e17",
   "metadata": {},
   "outputs": [],
   "source": [
    "# it has created 8 clusters "
   ]
  },
  {
   "cell_type": "code",
   "execution_count": null,
   "id": "4e338b8f",
   "metadata": {},
   "outputs": [],
   "source": [
    "pcs.columns"
   ]
  },
  {
   "cell_type": "code",
   "execution_count": null,
   "id": "f291f1af",
   "metadata": {},
   "outputs": [],
   "source": [
    "# Visualizing default created clusters.\n",
    "sns.scatterplot(x = pcs['Income'], y = pcs['Recency'], hue = km_pred, palette = 'rainbow')\n",
    "plt.scatter(km.cluster_centers_[:,0], km.cluster_centers_[:,1], c = 'black', s = 100)\n",
    "plt.title('K-Means Clustering of Income & Total_Purchases')"
   ]
  },
  {
   "cell_type": "code",
   "execution_count": null,
   "id": "208acb0f",
   "metadata": {},
   "outputs": [],
   "source": [
    "sns.scatterplot(x = pcs['Recency'], y = pcs['Total_amt_spend'], hue = km_pred, palette = 'rainbow')\n",
    "plt.scatter(km.cluster_centers_[:,1], km.cluster_centers_[:,19], c = 'black', s = 100)\n",
    "plt.title('Visualizing clusters of Total_Purchase & Total_amt_spend using scatterplot')"
   ]
  },
  {
   "cell_type": "code",
   "execution_count": null,
   "id": "bee76f2b",
   "metadata": {},
   "outputs": [],
   "source": [
    "# Here we can see there is jumbling of default clusters created\n",
    "\n",
    "# plotting Elbow Graph to get Ideal number of clusters to be made using K-Means Clustering ALgorithm."
   ]
  },
  {
   "cell_type": "code",
   "execution_count": null,
   "id": "b95fed18",
   "metadata": {},
   "outputs": [],
   "source": [
    "pcs.head()"
   ]
  },
  {
   "cell_type": "code",
   "execution_count": null,
   "id": "e9a44481",
   "metadata": {},
   "outputs": [],
   "source": [
    "# Getting inertia of K-Means Clusters and stroing in wcss.\n",
    "wcss = []\n",
    "pcs.drop(columns = 'Clusters')\n",
    "for i in range(1,11):\n",
    "    km = KMeans(n_clusters= i)\n",
    "    km.fit_predict(pcs)\n",
    "    wcss.append(km.inertia_)"
   ]
  },
  {
   "cell_type": "code",
   "execution_count": null,
   "id": "55b94ad6",
   "metadata": {},
   "outputs": [],
   "source": [
    "# Plotting Elbow Graph\n",
    "plt.plot(range(1,11), wcss)\n",
    "plt.grid()\n",
    "plt.xlabel('K-Values')\n",
    "plt.ylabel('WCSS-Values')\n",
    "plt.title('Elbow Graph')"
   ]
  },
  {
   "cell_type": "code",
   "execution_count": null,
   "id": "3fd5ca6b",
   "metadata": {},
   "outputs": [],
   "source": [
    "# Plotting Elbow Graph with ideal no. of clusters\n",
    "plt.plot(range(1,11), wcss)\n",
    "plt.axvline(3, linestyle = 'dotted', color = 'purple')\n",
    "plt.grid()\n",
    "plt.xlabel('K-Values')\n",
    "plt.ylabel('WCSS-Values')\n",
    "plt.title('Elbow Graph')"
   ]
  },
  {
   "cell_type": "code",
   "execution_count": null,
   "id": "b018a6f9",
   "metadata": {},
   "outputs": [],
   "source": [
    "# The graph shows a steep decline in WCSS values from K = 1 to K = 3, and after that, the rate of decrease slows down. \n",
    "# This suggests that adding more clusters beyond K = 3 doesn't provide significant improvement in reducing the WCSS.\n",
    "# Thus, based on the elbow graph, you should create 3 clusters for your K-Means clustering."
   ]
  },
  {
   "cell_type": "code",
   "execution_count": null,
   "id": "50eb39a1",
   "metadata": {},
   "outputs": [],
   "source": [
    "# Here we can see after 2 clusters the elbow is created so lots of people can choose 2 as optimal no. od clusters.\n",
    "# But remember here no. of clusters started from 1 & there is no change in slope of elbow in between 1 & 2 clusters.\n",
    "# And after 3rd cluster there is no significant dragstic change in slope of elbow.\n",
    "# SO selecting 3 as Ideal no. of clusters."
   ]
  },
  {
   "cell_type": "markdown",
   "id": "793b0964",
   "metadata": {},
   "source": [
    "# Optimized K-MEANS model."
   ]
  },
  {
   "cell_type": "code",
   "execution_count": null,
   "id": "0de52d8e",
   "metadata": {},
   "outputs": [],
   "source": [
    "# Creating a FINAL K-MEANS model for clustering.\n",
    "pcs.drop(columns = 'Clusters')\n",
    "\n",
    "km_final = KMeans(n_clusters = 3)\n",
    "final_Km_pred = km_final.fit_predict(pcs)\n",
    "pcs['KM_Clusters'] = final_Km_pred\n",
    "pcs.head()"
   ]
  },
  {
   "cell_type": "code",
   "execution_count": null,
   "id": "6b478358",
   "metadata": {},
   "outputs": [],
   "source": [
    "# visualizing the Final K-Means model clusters with their centroids\n",
    "sns.scatterplot(x = pcs['Income'], y = pcs['Total_amt_spend'], hue = pcs['KM_Clusters'], palette = 'rainbow')\n",
    "plt.scatter(km_final.cluster_centers_[:,0], km_final.cluster_centers_[:,19], c = 'black', s = 100)\n",
    "plt.title('Visualizing clusters of Total_Purchase & Total_amt_spend using scatterplot')"
   ]
  },
  {
   "cell_type": "code",
   "execution_count": null,
   "id": "69eb76a4",
   "metadata": {},
   "outputs": [],
   "source": [
    "# Here we can now see tunning hyperparameters have created best clusters with optimal distrubutions\n",
    "# So plotting 3d scatterplot to better visualize clusters and understand distribution"
   ]
  },
  {
   "cell_type": "code",
   "execution_count": null,
   "id": "97406d4c",
   "metadata": {},
   "outputs": [],
   "source": [
    "pe.scatter_3d(x = pcs['Income'], y = pcs['Total_amt_spend'], z = pcs['Income'], color = pcs['KM_Clusters'])"
   ]
  },
  {
   "cell_type": "code",
   "execution_count": null,
   "id": "5838074a",
   "metadata": {},
   "outputs": [],
   "source": [
    "# after plotting 3d scatterplot we can see that how effectively K-Means alogorithm has created clusters."
   ]
  },
  {
   "cell_type": "code",
   "execution_count": null,
   "id": "f402af3f",
   "metadata": {},
   "outputs": [],
   "source": [
    "sns.scatterplot(x = pcs['Age'], y = pcs['Num_Childrns'], hue = pcs['KM_Clusters'], palette = 'rainbow')\n",
    "plt.scatter(km_final.cluster_centers_[:,15], km_final.cluster_centers_[:,17], c = 'black', s = 100)\n",
    "plt.title('Visualizing clusters of Total_Purchase & Total_amt_spend using scatterplot')"
   ]
  },
  {
   "cell_type": "code",
   "execution_count": null,
   "id": "e6b83584",
   "metadata": {},
   "outputs": [],
   "source": [
    "pe.scatter_3d(x = pcs['Age'], y = pcs['Num_Childrns'], z = pcs['Income'], color = pcs['KM_Clusters'])"
   ]
  },
  {
   "cell_type": "code",
   "execution_count": null,
   "id": "74349a13",
   "metadata": {},
   "outputs": [],
   "source": [
    "# Now we can see that clusters are formed precisely."
   ]
  },
  {
   "cell_type": "code",
   "execution_count": null,
   "id": "fb1837db",
   "metadata": {},
   "outputs": [],
   "source": [
    "# printing records by clusters\n",
    "pcs[pcs['KM_Clusters'] == 0]"
   ]
  },
  {
   "cell_type": "code",
   "execution_count": null,
   "id": "25e0ee46",
   "metadata": {},
   "outputs": [],
   "source": [
    "pcs[pcs['KM_Clusters'] == 1]"
   ]
  },
  {
   "cell_type": "code",
   "execution_count": null,
   "id": "f6235571",
   "metadata": {},
   "outputs": [],
   "source": [
    "pcs[pcs['KM_Clusters'] == 2]"
   ]
  },
  {
   "cell_type": "code",
   "execution_count": null,
   "id": "1ab9f7a3",
   "metadata": {},
   "outputs": [],
   "source": [
    "pcs.groupby('KM_Clusters').agg('mean')"
   ]
  },
  {
   "cell_type": "raw",
   "id": "0c90d41b",
   "metadata": {},
   "source": [
    "################# On what basis clusters are made ###################### ??????????????????????\n",
    "\n",
    "Cluster 0:\n",
    "High Income: Mean income is high (3.752135).\n",
    "Low Recency: Customers in this cluster tend to have lower recency (-0.853104).\n",
    "Moderate Spending: They have positive mean values for MntWines, MntFruits, MntMeatProducts, MntGoldProds, and NumDealsPurchases, indicating moderate spending in these categories.\n",
    "\n",
    "\n",
    "Cluster 1:\n",
    "Low Income: Mean income is significantly low (-2.605086).\n",
    "Medium Recency: Recency is closer to zero (-0.351925), indicating average recency.\n",
    "Mixed Spending: They have mixed spending habits with some positive and some negative mean values across different product categories.\n",
    "\n",
    "\n",
    "Cluster 2:\n",
    "Moderate Income: Mean income is moderate (0.785852).\n",
    "High Recency: High positive recency (1.607756), indicating customers are more recent.\n",
    "Lower Spending: They have negative mean values for MntWines, MntFruits, MntMeatProducts, indicating lower spending in these categories, but positive values for MntFishProducts and MntSweetProducts."
   ]
  },
  {
   "cell_type": "code",
   "execution_count": null,
   "id": "87a65d04",
   "metadata": {},
   "outputs": [],
   "source": [
    "# Final K-Means model Evaluation\n",
    "silhouette_score(pcs, final_Km_pred)"
   ]
  },
  {
   "cell_type": "code",
   "execution_count": null,
   "id": "b8126166",
   "metadata": {},
   "outputs": [],
   "source": []
  },
  {
   "cell_type": "markdown",
   "id": "d2799d87",
   "metadata": {},
   "source": [
    "# 5. DBSCAN method for clustering"
   ]
  },
  {
   "cell_type": "code",
   "execution_count": null,
   "id": "2a3d3bc2",
   "metadata": {},
   "outputs": [],
   "source": [
    "# Rule 1 -> min_samples = at least 3\n",
    "# Rule 2 -> no. of samples + 1  ----\n",
    "#                                 ----- Hyperparameter Tuning\n",
    "# Rule 3 -> no. of samples * 2  ----"
   ]
  },
  {
   "cell_type": "code",
   "execution_count": null,
   "id": "a192f90d",
   "metadata": {},
   "outputs": [],
   "source": [
    "# Creating a basic DBSCAN model\n",
    "db1 = DBSCAN(eps = 0.5, min_samples=3)\n",
    "x = pcs.drop(columns = 'Clusters')\n",
    "db1_pred = db1.fit_predict(x)\n",
    "pcs['db1_clusters'] = db1_pred\n",
    "pcs['db1_clusters']"
   ]
  },
  {
   "cell_type": "code",
   "execution_count": null,
   "id": "1acf177d",
   "metadata": {},
   "outputs": [],
   "source": [
    "sns.scatterplot(x = pcs['Age'], y = pcs['Num_Childrns'], hue = pcs['db1_clusters'], palette = 'rainbow')"
   ]
  },
  {
   "cell_type": "code",
   "execution_count": null,
   "id": "e3f9367b",
   "metadata": {},
   "outputs": [],
   "source": [
    "sns.scatterplot(x = pcs['Income'], y = pcs['Total_amt_spend'], hue = pcs['db1_clusters'], palette = 'rainbow')"
   ]
  },
  {
   "cell_type": "code",
   "execution_count": null,
   "id": "9e557e8e",
   "metadata": {},
   "outputs": [],
   "source": [
    "# DBSCAN basic model has created only 1 cluster for dataset with epsilon value 0.5 and min_samples as 3\n",
    "# but the -1 cluster represented as noise.\n",
    "# it means all the datapoints are considered as noisy data according to Basic DBSCAN model."
   ]
  },
  {
   "cell_type": "code",
   "execution_count": null,
   "id": "e43cac07",
   "metadata": {},
   "outputs": [],
   "source": [
    "x.head()"
   ]
  },
  {
   "cell_type": "markdown",
   "id": "60b611d1",
   "metadata": {},
   "source": [
    "# DBSCAN Hyperparamater Tunning"
   ]
  },
  {
   "cell_type": "code",
   "execution_count": null,
   "id": "0df12525",
   "metadata": {},
   "outputs": [],
   "source": [
    "# We can see that silhouette score is negative, which shows bad clustering and model performance.\n",
    "# So to increase model performance we need to fo hyperparameter tunning to get ideal '\"eps\"' value."
   ]
  },
  {
   "cell_type": "code",
   "execution_count": null,
   "id": "a9dbd9a1",
   "metadata": {},
   "outputs": [],
   "source": [
    "# Rule 2 -> No. of samples + 1"
   ]
  },
  {
   "cell_type": "code",
   "execution_count": null,
   "id": "d9ee17be",
   "metadata": {},
   "outputs": [],
   "source": [
    "pcs.drop(columns=['db1_clusters','Clusters'], inplace=True)"
   ]
  },
  {
   "cell_type": "code",
   "execution_count": null,
   "id": "26d6cc85",
   "metadata": {},
   "outputs": [],
   "source": [
    "neigh1 = NearestNeighbors(n_neighbors = 21).fit(x) # (no. of samples + 1) i.e.(25+1)\n",
    "d1, index1 = neigh1.kneighbors(x)\n",
    "distance1 = np.sort(d1[:,1])\n",
    "distance1"
   ]
  },
  {
   "cell_type": "code",
   "execution_count": null,
   "id": "aecac3c2",
   "metadata": {},
   "outputs": [],
   "source": [
    "# plotting K- distance plot to know optimal no. of eps value\n",
    "plt.plot(distance1)\n",
    "plt.title('K - Distance Plot (no. of samples + 1 = 21)')\n",
    "plt.axhline(4, linestyle = '--', color = 'purple')\n",
    "plt.xlabel('Distance')\n",
    "plt.ylabel('EPS-Value')"
   ]
  },
  {
   "cell_type": "code",
   "execution_count": null,
   "id": "d604a161",
   "metadata": {},
   "outputs": [],
   "source": [
    "# Rule 2 -> No. of samples *2\n",
    "neigh2 = NearestNeighbors(n_neighbors=40).fit(pcs) # (no. of samples * 2) i.e.(20*2)\n",
    "d2, index2 = neigh2.kneighbors(pcs)\n",
    "distance2 = np.sort(d2[:,1])\n",
    "plt.plot(distance2)\n",
    "plt.axhline(4, linestyle = '--', color = 'purple')\n",
    "plt.title('K- distance plot (no. of samples * 2)')\n",
    "plt.xlabel('Distance')\n",
    "plt.ylabel('EPS-Value')"
   ]
  },
  {
   "cell_type": "code",
   "execution_count": null,
   "id": "b39b2e6b",
   "metadata": {},
   "outputs": [],
   "source": [
    "# I think 4 is the ideal eps value where we can see the change in slope of line"
   ]
  },
  {
   "cell_type": "code",
   "execution_count": null,
   "id": "578b61bb",
   "metadata": {},
   "outputs": [],
   "source": [
    "pcs.head()"
   ]
  },
  {
   "cell_type": "code",
   "execution_count": null,
   "id": "9d7fc212",
   "metadata": {},
   "outputs": [],
   "source": [
    "# Creating final DBSCAN model with optimal eps value\n",
    "db2 = DBSCAN(eps = 4, min_samples=21) # (no. of samples * 2) i.e.(25+1)\n",
    "db2_pred = db2.fit_predict(pcs)\n",
    "pcs['db2_clusters'] = db2_pred\n",
    "pcs['db2_clusters']"
   ]
  },
  {
   "cell_type": "code",
   "execution_count": null,
   "id": "cc7df387",
   "metadata": {},
   "outputs": [],
   "source": [
    "# Visualizing the clusters\n",
    "sns.scatterplot(x = pcs['Income'], y = pcs['Total_amt_spend'], hue = pcs['db2_clusters'], palette = 'rainbow')"
   ]
  },
  {
   "cell_type": "code",
   "execution_count": null,
   "id": "4a99a49e",
   "metadata": {},
   "outputs": [],
   "source": [
    "# Here we can see that most of the datapoints are under the 0th cluster.\n",
    "# This can mislead model to predict the cluster for new unseen records.\n",
    "# This could not be a good method to form clusters for this dataframe."
   ]
  },
  {
   "cell_type": "code",
   "execution_count": null,
   "id": "024961c9",
   "metadata": {},
   "outputs": [],
   "source": [
    "pe.scatter_3d(x = pcs['Age'], y = pcs['Total_amt_spend'], z = pcs['Income'], color = pcs['db2_clusters'])"
   ]
  },
  {
   "cell_type": "code",
   "execution_count": null,
   "id": "2bfc2711",
   "metadata": {},
   "outputs": [],
   "source": [
    "sns.scatterplot(x = pcs['Age'], y = pcs['Num_Childrns'], hue = pcs['db2_clusters'], palette = 'rainbow')"
   ]
  },
  {
   "cell_type": "code",
   "execution_count": null,
   "id": "d1e3c596",
   "metadata": {},
   "outputs": [],
   "source": [
    "pe.scatter_3d(x = pcs['Age'], y = pcs['Num_Childrns'], z = pcs['Income'], color = pcs['db2_clusters'])"
   ]
  },
  {
   "cell_type": "code",
   "execution_count": null,
   "id": "5805b548",
   "metadata": {},
   "outputs": [],
   "source": [
    "pcs.shape"
   ]
  },
  {
   "cell_type": "code",
   "execution_count": null,
   "id": "0a490036",
   "metadata": {},
   "outputs": [],
   "source": [
    "pcs['db2_clusters'].unique()"
   ]
  },
  {
   "cell_type": "code",
   "execution_count": null,
   "id": "99e3d794",
   "metadata": {},
   "outputs": [],
   "source": [
    "pcs[pcs['db2_clusters'] == 0]"
   ]
  },
  {
   "cell_type": "code",
   "execution_count": null,
   "id": "3cb3786e",
   "metadata": {},
   "outputs": [],
   "source": [
    "pcs[pcs['db2_clusters'] == 1]"
   ]
  },
  {
   "cell_type": "code",
   "execution_count": null,
   "id": "bb90610b",
   "metadata": {},
   "outputs": [],
   "source": [
    "pcs[pcs['db2_clusters'] == -1]"
   ]
  },
  {
   "cell_type": "code",
   "execution_count": null,
   "id": "9ea84221",
   "metadata": {},
   "outputs": [],
   "source": [
    "# Comparing sillhouette scores of all the clustering models created.\n",
    "\n",
    "print(silhouette_score(pcs, db2_pred))      # Final DBSCAN MODEL\n",
    "print(silhouette_score(pcs, final_Km_pred)) # FINAL K-MEANS MODEL\n",
    "print(silhouette_score(pcs, km_pred))       # BASIC K-MEANS MODEL\n",
    "print(silhouette_score(pcs, hc_predict))    # AGGLOMERATIVE CLUSTERING MODEL\n"
   ]
  },
  {
   "cell_type": "code",
   "execution_count": null,
   "id": "069ebd0b",
   "metadata": {},
   "outputs": [],
   "source": [
    "# here we can see Final DBSCAN model has given highest accuracy as compared to other algorithms.\n",
    "# But after visualizing the clusters we can see there is overlapping of clusters and they are not formed presizely and effectively. \n",
    "# As we saw before, clusters formed using optimized K-Means algorithm were giving excellent distributions of clusters.\n",
    "# So selecting Optimized K-Means model as final clustering model for clustering.\n",
    "\n",
    "# Dropping db2_clusters\n",
    "pcs.drop(columns = 'db2_clusters', inplace = True)\n",
    "pcs"
   ]
  },
  {
   "cell_type": "code",
   "execution_count": null,
   "id": "76fa78d6",
   "metadata": {},
   "outputs": [],
   "source": [
    "pcs[pcs['KM_Clusters'] == 0]"
   ]
  },
  {
   "cell_type": "code",
   "execution_count": null,
   "id": "8381c7ff",
   "metadata": {},
   "outputs": [],
   "source": [
    "pcs[pcs['KM_Clusters'] == 1]"
   ]
  },
  {
   "cell_type": "code",
   "execution_count": null,
   "id": "dccf6074",
   "metadata": {},
   "outputs": [],
   "source": [
    "pcs[pcs['KM_Clusters'] == 2]"
   ]
  },
  {
   "cell_type": "code",
   "execution_count": null,
   "id": "f4e222f8",
   "metadata": {},
   "outputs": [],
   "source": [
    "pcs.to_csv('Clustering_PCA.csv', index=False)"
   ]
  },
  {
   "cell_type": "code",
   "execution_count": null,
   "id": "b188fb9e",
   "metadata": {},
   "outputs": [],
   "source": []
  }
 ],
 "metadata": {
  "kernelspec": {
   "display_name": "Python 3 (ipykernel)",
   "language": "python",
   "name": "python3"
  },
  "language_info": {
   "codemirror_mode": {
    "name": "ipython",
    "version": 3
   },
   "file_extension": ".py",
   "mimetype": "text/x-python",
   "name": "python",
   "nbconvert_exporter": "python",
   "pygments_lexer": "ipython3",
   "version": "3.12.2"
  }
 },
 "nbformat": 4,
 "nbformat_minor": 5
}
